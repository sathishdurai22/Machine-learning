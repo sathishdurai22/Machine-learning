{
 "cells": [
  {
   "cell_type": "code",
   "execution_count": 1,
   "id": "026a2f0e",
   "metadata": {},
   "outputs": [],
   "source": [
    "# Import necessary libraries\n",
    "import numpy as np\n",
    "import pandas as pd\n",
    "from sklearn.preprocessing import MinMaxScaler\n",
    "from sklearn.model_selection import train_test_split\n",
    "from tensorflow.keras.models import Sequential\n",
    "from tensorflow.keras.layers import LSTM, Dense\n",
    "from tensorflow.keras.callbacks import EarlyStopping"
   ]
  },
  {
   "cell_type": "code",
   "execution_count": 11,
   "id": "87f04132",
   "metadata": {},
   "outputs": [],
   "source": [
    "df = pd.read_csv('household_power_consumption_days.csv')"
   ]
  },
  {
   "cell_type": "code",
   "execution_count": 14,
   "id": "29983757",
   "metadata": {},
   "outputs": [
    {
     "name": "stderr",
     "output_type": "stream",
     "text": [
      "C:\\Users\\user\\AppData\\Local\\Temp\\ipykernel_15980\\1276112075.py:1: UserWarning: Parsing dates in DD/MM/YYYY format when dayfirst=False (the default) was specified. This may lead to inconsistently parsed dates! Specify a format to ensure consistent parsing.\n",
      "  df['datetime'] = pd.to_datetime(df['datetime'])\n"
     ]
    }
   ],
   "source": [
    "df['datetime'] = pd.to_datetime(df['datetime'])\n",
    "df = df.set_index('datetime')"
   ]
  },
  {
   "cell_type": "code",
   "execution_count": 15,
   "id": "077bfd2e",
   "metadata": {},
   "outputs": [],
   "source": [
    "# Exclude non-numeric columns from scaling\n",
    "numeric_columns = df.select_dtypes(include=[np.number]).columns\n",
    "df_numeric = df[numeric_columns]\n",
    "\n",
    "# Normalize the data\n",
    "scaler = MinMaxScaler()\n",
    "df_scaled = pd.DataFrame(scaler.fit_transform(df_numeric), columns=df_numeric.columns)\n"
   ]
  },
  {
   "cell_type": "code",
   "execution_count": 16,
   "id": "0cffefb0",
   "metadata": {},
   "outputs": [],
   "source": [
    "def create_sequences(data, seq_length):\n",
    "    sequences = []\n",
    "    labels = []\n",
    "    for i in range(len(data) - seq_length):\n",
    "        seq = data.iloc[i:i+seq_length].values\n",
    "        label = data.iloc[i+seq_length].values\n",
    "        sequences.append(seq)\n",
    "        labels.append(label)\n",
    "    return np.array(sequences), np.array(labels)"
   ]
  },
  {
   "cell_type": "code",
   "execution_count": 17,
   "id": "39082755",
   "metadata": {},
   "outputs": [],
   "source": [
    "# Choose a sequence length (number of time steps to look back)\n",
    "sequence_length = 10"
   ]
  },
  {
   "cell_type": "code",
   "execution_count": 20,
   "id": "94481470",
   "metadata": {},
   "outputs": [],
   "source": [
    "X, y = create_sequences(df_scaled, sequence_length)"
   ]
  },
  {
   "cell_type": "code",
   "execution_count": 21,
   "id": "075eab92",
   "metadata": {},
   "outputs": [],
   "source": [
    "# Split the data into training and testing sets\n",
    "X_train, X_test, y_train, y_test = train_test_split(X, y, test_size=0.2, shuffle=False)"
   ]
  },
  {
   "cell_type": "code",
   "execution_count": 22,
   "id": "b1c47f0f",
   "metadata": {},
   "outputs": [],
   "source": [
    "# Build the LSTM model\n",
    "model = Sequential()\n",
    "model.add(LSTM(units=50, activation='relu', input_shape=(X_train.shape[1], X_train.shape[2])))\n",
    "model.add(Dense(units=df_scaled.shape[1]))  # Output layer with the same number of features"
   ]
  },
  {
   "cell_type": "code",
   "execution_count": 23,
   "id": "6620666a",
   "metadata": {},
   "outputs": [],
   "source": [
    "# Compile the model\n",
    "model.compile(optimizer='adam', loss='mse')  # Use mean squared error for regression problems"
   ]
  },
  {
   "cell_type": "code",
   "execution_count": 24,
   "id": "b559ab4b",
   "metadata": {},
   "outputs": [],
   "source": [
    "# Set up early stopping to prevent overfitting\n",
    "early_stopping = EarlyStopping(monitor='val_loss', patience=3, restore_best_weights=True)"
   ]
  },
  {
   "cell_type": "code",
   "execution_count": 25,
   "id": "26d83b99",
   "metadata": {},
   "outputs": [
    {
     "name": "stdout",
     "output_type": "stream",
     "text": [
      "Epoch 1/50\n",
      "33/33 [==============================] - 7s 31ms/step - loss: 0.0778 - val_loss: 0.0183\n",
      "Epoch 2/50\n",
      "33/33 [==============================] - 0s 12ms/step - loss: 0.0171 - val_loss: 0.0154\n",
      "Epoch 3/50\n",
      "33/33 [==============================] - 0s 12ms/step - loss: 0.0150 - val_loss: 0.0153\n",
      "Epoch 4/50\n",
      "33/33 [==============================] - 1s 16ms/step - loss: 0.0142 - val_loss: 0.0145\n",
      "Epoch 5/50\n",
      "33/33 [==============================] - 0s 14ms/step - loss: 0.0138 - val_loss: 0.0141\n",
      "Epoch 6/50\n",
      "33/33 [==============================] - 0s 12ms/step - loss: 0.0136 - val_loss: 0.0143\n",
      "Epoch 7/50\n",
      "33/33 [==============================] - 1s 17ms/step - loss: 0.0134 - val_loss: 0.0136\n",
      "Epoch 8/50\n",
      "33/33 [==============================] - 0s 11ms/step - loss: 0.0134 - val_loss: 0.0139\n",
      "Epoch 9/50\n",
      "33/33 [==============================] - 0s 11ms/step - loss: 0.0132 - val_loss: 0.0139\n",
      "Epoch 10/50\n",
      "33/33 [==============================] - 0s 14ms/step - loss: 0.0131 - val_loss: 0.0140\n"
     ]
    },
    {
     "data": {
      "text/plain": [
       "<keras.src.callbacks.History at 0x1fbe1eb6150>"
      ]
     },
     "execution_count": 25,
     "metadata": {},
     "output_type": "execute_result"
    }
   ],
   "source": [
    "# Train the model\n",
    "model.fit(X_train, y_train, epochs=50, batch_size=32, validation_split=0.1, callbacks=[early_stopping])"
   ]
  },
  {
   "cell_type": "code",
   "execution_count": 26,
   "id": "494451f4",
   "metadata": {},
   "outputs": [
    {
     "name": "stdout",
     "output_type": "stream",
     "text": [
      "9/9 [==============================] - 0s 6ms/step - loss: 0.0108\n",
      "Test Mean Squared Error: 0.01077329833060503\n"
     ]
    }
   ],
   "source": [
    "# Evaluate the model\n",
    "mse = model.evaluate(X_test, y_test)\n",
    "print(f'Test Mean Squared Error: {mse}')"
   ]
  },
  {
   "cell_type": "code",
   "execution_count": 27,
   "id": "b5059abb",
   "metadata": {},
   "outputs": [
    {
     "name": "stdout",
     "output_type": "stream",
     "text": [
      "9/9 [==============================] - 0s 6ms/step\n"
     ]
    }
   ],
   "source": [
    "# Make predictions on new data\n",
    "# You can use the trained model to predict equipment failures on unseen data\n",
    "predictions = model.predict(X_test)\n",
    "# Implement thresholding based on your requirements\n"
   ]
  },
  {
   "cell_type": "code",
   "execution_count": 28,
   "id": "e32becaa",
   "metadata": {},
   "outputs": [
    {
     "name": "stderr",
     "output_type": "stream",
     "text": [
      "C:\\Users\\user\\anaconda3\\Lib\\site-packages\\keras\\src\\engine\\training.py:3079: UserWarning: You are saving your model as an HDF5 file via `model.save()`. This file format is considered legacy. We recommend using instead the native Keras format, e.g. `model.save('my_model.keras')`.\n",
      "  saving_api.save_model(\n"
     ]
    }
   ],
   "source": [
    "# Save the model if needed\n",
    "model.save('predictive_maintenance_model.h5')"
   ]
  },
  {
   "cell_type": "code",
   "execution_count": null,
   "id": "2b0b1241",
   "metadata": {},
   "outputs": [],
   "source": []
  }
 ],
 "metadata": {
  "kernelspec": {
   "display_name": "Python 3 (ipykernel)",
   "language": "python",
   "name": "python3"
  },
  "language_info": {
   "codemirror_mode": {
    "name": "ipython",
    "version": 3
   },
   "file_extension": ".py",
   "mimetype": "text/x-python",
   "name": "python",
   "nbconvert_exporter": "python",
   "pygments_lexer": "ipython3",
   "version": "3.11.4"
  }
 },
 "nbformat": 4,
 "nbformat_minor": 5
}
