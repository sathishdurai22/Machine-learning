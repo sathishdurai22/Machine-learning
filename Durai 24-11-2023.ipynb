{
 "cells": [
  {
   "cell_type": "markdown",
   "id": "65a96c90",
   "metadata": {},
   "source": [
    "# You are part of a team developing a text classification system for a news aggregator platform. The platform aims to categorize news articles into different topics automatically.The dataset contains news articles along with their corresponding topics. Perform only the Feature extraction techniques.\n"
   ]
  },
  {
   "cell_type": "markdown",
   "id": "92bc5973",
   "metadata": {},
   "source": [
    "# Bag-of-Words (BoW):"
   ]
  },
  {
   "cell_type": "code",
   "execution_count": 2,
   "id": "505f0223",
   "metadata": {},
   "outputs": [],
   "source": [
    "from sklearn.feature_extraction.text import CountVectorizer\n",
    "\n",
    "# Assuming you have a list of news articles\n",
    "news_articles = [\n",
    "    \"Text of the first news article.\",\n",
    "    \"Text of the second news article.\",\n",
    "]\n",
    "\n",
    "# Example usage\n",
    "vectorizer = CountVectorizer()\n",
    "X = vectorizer.fit_transform(news_articles)"
   ]
  },
  {
   "cell_type": "markdown",
   "id": "c8adeabf",
   "metadata": {},
   "source": [
    "# Term Frequency-Inverse Document Frequency (TF-IDF):"
   ]
  },
  {
   "cell_type": "code",
   "execution_count": 3,
   "id": "a9fa1a2c",
   "metadata": {},
   "outputs": [],
   "source": [
    "from sklearn.feature_extraction.text import TfidfVectorizer\n",
    "\n",
    "# Example usage\n",
    "vectorizer = TfidfVectorizer()\n",
    "X = vectorizer.fit_transform(news_articles)\n"
   ]
  },
  {
   "cell_type": "markdown",
   "id": "6e150f6d",
   "metadata": {},
   "source": [
    "# Word Embeddings:"
   ]
  },
  {
   "cell_type": "code",
   "execution_count": 7,
   "id": "f15f1e57",
   "metadata": {},
   "outputs": [],
   "source": [
    "from gensim.models import Word2Vec\n",
    "\n",
    "# Example dataset (replace this with your actual data)\n",
    "sentences = [\n",
    "    [\"word1\", \"word2\", \"word3\"],\n",
    "    [\"word4\", \"word5\", \"word6\"],\n",
    "]\n",
    "\n",
    "# Example training Word2Vec model\n",
    "model = Word2Vec(sentences, vector_size=100, window=5, min_count=1, workers=4)"
   ]
  },
  {
   "cell_type": "markdown",
   "id": "a0443723",
   "metadata": {},
   "source": [
    "# Doc2Vec (Paragraph Vectors):"
   ]
  },
  {
   "cell_type": "code",
   "execution_count": 8,
   "id": "16a25b91",
   "metadata": {},
   "outputs": [],
   "source": [
    "from gensim.models.doc2vec import Doc2Vec, TaggedDocument\n",
    "\n",
    "# Example training Doc2Vec model\n",
    "documents = [TaggedDocument(words=doc, tags=[i]) for i, doc in enumerate(news_articles)]\n",
    "model = Doc2Vec(documents, vector_size=100, window=5, min_count=1, workers=4)"
   ]
  },
  {
   "cell_type": "code",
   "execution_count": null,
   "id": "f59ee654",
   "metadata": {},
   "outputs": [],
   "source": []
  }
 ],
 "metadata": {
  "kernelspec": {
   "display_name": "Python 3 (ipykernel)",
   "language": "python",
   "name": "python3"
  },
  "language_info": {
   "codemirror_mode": {
    "name": "ipython",
    "version": 3
   },
   "file_extension": ".py",
   "mimetype": "text/x-python",
   "name": "python",
   "nbconvert_exporter": "python",
   "pygments_lexer": "ipython3",
   "version": "3.11.4"
  }
 },
 "nbformat": 4,
 "nbformat_minor": 5
}
